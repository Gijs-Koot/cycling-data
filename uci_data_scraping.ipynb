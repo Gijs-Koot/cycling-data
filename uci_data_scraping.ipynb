{
 "cells": [
  {
   "cell_type": "code",
   "execution_count": 45,
   "metadata": {
    "scrolled": false
   },
   "outputs": [
    {
     "name": "stdout",
     "output_type": "stream",
     "text": [
      "Mosso International Tour of Mevlana 51223\n",
      "3th International Race Grand Prix Doliny Baryczy Milicz 51194\n",
      "GP Horsens Posten 51489\n",
      "Elfstedenronde 51507\n",
      "Championnats Nationaux Route - Italie 51837\n",
      "National Road Championships - Japan (ME,MU,MJ) 52504\n"
     ]
    }
   ],
   "source": [
    "import requests\n",
    "import time\n",
    "\n",
    "def get_paging_results(url, data, pagesize = 40, maxpages = 10, sleep = .1):\n",
    "    \n",
    "    for page in range(1, maxpages + 1):\n",
    "        response = requests.post(url, data = {\n",
    "            \"disciplineId\": 10,\n",
    "            \"take\": pagesize,\n",
    "            \"skip\": (page - 1) * pagesize,\n",
    "            \"page\": page,\n",
    "            \"pageSize\": pagesize,\n",
    "            **data\n",
    "        })\n",
    "\n",
    "        for result in response.json()['data']:\n",
    "            yield result\n",
    "\n",
    "def get_races(competition_id, **kwargs):\n",
    "    \n",
    "    url = \"https://dataride.uci.ch/iframe/Races/\"\n",
    "    data = {\n",
    "        \"competitionId\": competition_id\n",
    "    }\n",
    "                             \n",
    "    yield from get_paging_results(url, data, **kwargs)\n",
    "\n",
    "def get_classifications(event_id, **kwargs):\n",
    "    \n",
    "    url = \"https://dataride.uci.ch/iframe/Results/\"\n",
    "    data = {\n",
    "        \"eventId\": event_id\n",
    "    }\n",
    "    \n",
    "    yield from get_paging_results(url, data, **kwargs)\n",
    "    \n",
    "def get_competions(**kwargs):\n",
    "    \n",
    "    url = \"https://dataride.uci.ch/iframe/Competitions/\"\n",
    "\n",
    "    data = {\n",
    "        \"sort[0][field]\": \"StartDate\",\n",
    "        \"sort[0][dir]\": \"desc\",\n",
    "        \"filter[filters][0][field]\": \"RaceTypeId\",\n",
    "        \"filter[filters][0][value]\": 0,\n",
    "        \"filter[filters][1][field]\": \"CategoryId\",\n",
    "        \"filter[filters][1][value]\": 0,\n",
    "        \"filter[filters][2][field]\": \"SeasonId\",\n",
    "        \"filter[filters][2][value]\": 89\n",
    "    }\n",
    "\n",
    "    yield from get_paging_results(url, data, **kwargs)\n",
    "    \n",
    "for comp in get_competions(pagesize = 2, maxpages = 3):\n",
    "    print(comp['CompetitionName'], comp[\"CompetitionId\"])"
   ]
  },
  {
   "cell_type": "code",
   "execution_count": 39,
   "metadata": {},
   "outputs": [],
   "source": [
    "url = \"https://dataride.uci.ch/iframe/Races/\"\n",
    "\n",
    "response = requests.post(url, data = {\n",
    "    \"competitionId\": 51432, \"disciplineId\": 10, \"take\": 40, \"skip\": 0, \"page\": 1, \"pageSize\": 40\n",
    "})"
   ]
  }
 ],
 "metadata": {
  "kernelspec": {
   "display_name": "Python 3",
   "language": "python",
   "name": "python3"
  },
  "language_info": {
   "codemirror_mode": {
    "name": "ipython",
    "version": 3
   },
   "file_extension": ".py",
   "mimetype": "text/x-python",
   "name": "python",
   "nbconvert_exporter": "python",
   "pygments_lexer": "ipython3",
   "version": "3.6.5"
  }
 },
 "nbformat": 4,
 "nbformat_minor": 2
}
